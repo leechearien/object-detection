{
  "nbformat": 4,
  "nbformat_minor": 0,
  "metadata": {
    "colab": {
      "name": "car16_cnn.ipynb",
      "provenance": [],
      "collapsed_sections": [],
      "include_colab_link": true
    },
    "kernelspec": {
      "name": "python3",
      "display_name": "Python 3"
    },
    "language_info": {
      "name": "python"
    }
  },
  "cells": [
    {
      "cell_type": "markdown",
      "metadata": {
        "id": "view-in-github",
        "colab_type": "text"
      },
      "source": [
        "<a href=\"https://colab.research.google.com/github/leechearien/object-detection/blob/main/car16_cnn.ipynb\" target=\"_parent\"><img src=\"https://colab.research.google.com/assets/colab-badge.svg\" alt=\"Open In Colab\"/></a>"
      ]
    },
    {
      "cell_type": "code",
      "metadata": {
        "id": "7xo_j2UVCrn3"
      },
      "source": [
        "# 모델 import\n",
        "from tensorflow.keras.models import Sequential\n",
        "from tensorflow.keras.layers import Dense, BatchNormalization, Dropout, Conv2D, MaxPooling2D ,Flatten\n",
        "from tensorflow.keras.utils import to_categorical \n",
        "import numpy as  np\n",
        "from tensorflow.keras.optimizers import Adam\n",
        "import tensorflow as tf\n",
        "from PIL import Image\n",
        "import os, glob\n",
        "from sklearn.model_selection import train_test_split\n",
        "from tensorflow.keras.callbacks import EarlyStopping"
      ],
      "execution_count": null,
      "outputs": []
    },
    {
      "cell_type": "code",
      "metadata": {
        "id": "E1ThUbtoCQEH"
      },
      "source": [
        "# 분류 대상 카테고리 선택하기\n",
        "caltech_dir = \"/content/gdrive/MyDrive/car5\"\n",
        "\n",
        "categories = categories = [\"AvanteAD\",\"Carnival\",\"G4rexton\",\n",
        "                           \"GenesisG80\",\"GrandeurIG\",\"K5JF\",\n",
        "                           \"Kona\",\"LFSonata\",\"Morning\",\n",
        "                           \"Porter2\",\"QM6\",\"Ray\",\"SM6\",\n",
        "                           \"SantafeTM\",\"Spark\",\"Tivoli\"]\n",
        "\n",
        "nb_classes = len(categories) # nb_classes에 분류될 클래스를 개수만큼 변수에 저장해둔다.\n",
        "print(nb_classes)\n",
        "\n",
        "# 이미지 크기 지정\n",
        "image_w = 64\n",
        "image_h = 64\n",
        "pixels = image_w * image_h * 3 # pixel은 rgb값이 모두 들어가니 3을 곱해준다.\n",
        "\n",
        "# 이미지 데이터 읽어 들이기\n",
        "X = [] # 실제 이미지 데이터\n",
        "Y = [] # 레이블 데이터\n",
        "\n",
        "for idx, cat in enumerate(categories):\n",
        "    # 레이블 생성\n",
        "    label = [0 for i in range(nb_classes)]\n",
        "    label[idx] = 1\n",
        "\n",
        "      # 이미지\n",
        "    image_dir = caltech_dir + \"/\" + cat\n",
        "    files = glob.glob(image_dir+\"/*.JPG\")    # 확장자가 jpg인 파일을 찾기\n",
        "    for i, f in enumerate(files):\n",
        "        img = Image.open(f)                  # 이미지 파일을 읽어서\n",
        "        img = img.convert(\"RGB\")             # RGB 형식으로 변환하고\n",
        "        img = img.resize((image_w, image_h)) # 지정해줬던 크기로 resize한다.\n",
        "        data = np.asarray(img)               # numpy 배열 데이터로 변환한다.\n",
        "        X.append(data)\n",
        "        Y.append(label)\n",
        "        if i % 10 == 0:\n",
        "            print(i, \"\\n\", data)\n",
        "X = np.array(X)\n",
        "Y = np.array(Y)\n",
        "\n",
        "# 학습 전용 데이터와 테스트 전용 데이터 구분 \n",
        "X_train, X_test, y_train, y_test = \\\n",
        "    train_test_split(X, Y)\n",
        "xy = (X_train, X_test, y_train, y_test)\n",
        "\n",
        "# 데이터를 저장합니다.\n",
        "np.save(\"/content/gdrive/MyDrive/car_16/16obj.npy\", xy)\n",
        "print(\"ok,\", len(Y))"
      ],
      "execution_count": null,
      "outputs": []
    },
    {
      "cell_type": "code",
      "metadata": {
        "id": "TaEBqa4uB4tm"
      },
      "source": [
        "# 카테고리 지정하기\n",
        "categories = categories = [\"AvanteAD\",\"Carnival\",\"G4rexton\",\n",
        "                           \"GenesisG80\",\"GrandeurIG\",\"K5JF\",\n",
        "                           \"Kona\",\"LFSonata\",\"Morning\",\n",
        "                           \"Porter2\",\"QM6\",\"Ray\",\"SM6\",\n",
        "                           \"SantafeTM\",\"Spark\",\"Tivoli\"]\n",
        "nb_classes = len(categories) # nb_classes에 분류될 클래스를 개수만큼 변수에 저장해둔다.\n",
        "\n",
        "# 이미지 크기 지정하기\n",
        "image_w = 128\n",
        "image_h = 128\n",
        "\n",
        "# 데이터 불러오기\n",
        "X_train, X_test, y_train, y_test = np.load('/content/gdrive/MyDrive/car_16/16obj.npy', allow_pickle=True)\n",
        "\n",
        "# 데이터 정규화하기\n",
        "X_train = X_train.astype(\"float\") / 255\n",
        "X_test  = X_test.astype(\"float\")  / 255\n",
        "print('X_train shape:', X_train.shape)\n",
        "print('X_text shape:',X_test.shape)\n",
        "\n",
        "\n",
        "# 모델 구성하기\n",
        "model = Sequential()\n",
        "model.add(Convolution2D(32, 3, 3, padding='same',input_shape=X_train.shape[1:])) # 1층\n",
        "model.add(Activation('relu'))\n",
        "model.add(MaxPooling2D(pool_size=(2, 2)))\n",
        "model.add(Dropout(0.5))\n",
        "model.add(Convolution2D(64, 3, 3, padding='same'))\n",
        "model.add(Activation('relu'))\n",
        "model.add(Convolution2D(64, 3, 3,padding='same'))\n",
        "model.add(MaxPooling2D(pool_size=(2, 2),padding='same'))\n",
        "model.add(Dropout(0.5))\n",
        "model.add(Flatten())\n",
        "model.add(Dense(512))\n",
        "model.add(Activation('relu'))\n",
        "model.add(Dropout(0.5))\n",
        "model.add(Dense(nb_classes))\n",
        "model.add(Activation('softmax'))\n",
        "\n",
        "# 모델을 설정하기\n",
        "model.compile(loss='binary_crossentropy',\n",
        "    optimizer='Adam',\n",
        "    metrics=['acc'])\n",
        "\n",
        "# 콜백을 정의하기\n",
        "callbacks = [EarlyStopping(monitor = 'val_acc', patience = 10, verbose = 1)]\n",
        "\n",
        "# 모델 훈련하기\n",
        "history= model.fit(X_train, y_train,\n",
        "         batch_size = 100,\n",
        "         validation_data = (X_test, y_test),\n",
        "         epochs = 50)\n",
        "         #callbacks = callbacks) \n",
        "  \n",
        "# 모델 평가하기\n",
        "score = model.evaluate(X_test, y_test)\n",
        "print('loss=', score[0])\n",
        "print('accuracy=', score[1])\n",
        "\n",
        "# 모델을 저장하기\n",
        "model.save('/content/drive/MyDrive/car_16/car_CNN.h5')"
      ],
      "execution_count": null,
      "outputs": []
    },
    {
      "cell_type": "code",
      "metadata": {
        "id": "4FPhhxWKDznM"
      },
      "source": [
        "# 모델 시각화\n",
        "\n",
        "model = load_model('/content/drive/MyDrive/car_16/car_CNN.h5')\n",
        "\n",
        "model.evaluate(X_test, y_test)\n",
        "\n",
        "train_acc_list=history.history['acc']\n",
        "train_acc_list\n",
        "test_acc_list=history.history['val_acc']\n",
        "test_acc_list\n",
        "\n",
        "x = np.arange( len(train_acc_list) )\n",
        "plt.plot( x, train_acc_list, label='train acc')\n",
        "plt.plot( x, test_acc_list, label='test acc',  linestyle='--')\n",
        "plt.ylim(0, 1)\n",
        "plt.legend(loc='lower right')\n",
        "plt.xlabel('epochs')\n",
        "plt.ylabel('acc')\n",
        "plt.show()"
      ],
      "execution_count": null,
      "outputs": []
    }
  ]
}
